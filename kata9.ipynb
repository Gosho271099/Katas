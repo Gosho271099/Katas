{
 "cells": [
  {
   "cell_type": "markdown",
   "metadata": {},
   "source": [
    "## Ejercicio: Uso de funciones en Python                "
   ]
  },
  {
   "cell_type": "code",
   "execution_count": 26,
   "metadata": {},
   "outputs": [
    {
     "name": "stdout",
     "output_type": "stream",
     "text": [
      "Reporte \n",
      "-------------------------------------------------- \n",
      "El promedio es: 10.0\n"
     ]
    }
   ],
   "source": [
    "def tanques(combustible1,combustible2,combustible3):\n",
    "    return promedio([combustible1,combustible2,combustible3])\n",
    "\n",
    "\n",
    "def promedio(combustibles):\n",
    "    suma = sum(combustibles)\n",
    "    numero_combustibles= len(combustibles)\n",
    "    return suma/numero_combustibles\n",
    "\n",
    "print(f\"Reporte \\n{'-'*50} \\nEl promedio es:\",promedio([10,10,10]))\n"
   ]
  },
  {
   "cell_type": "markdown",
   "metadata": {},
   "source": [
    "## Ejercicio 2"
   ]
  },
  {
   "cell_type": "code",
   "execution_count": 44,
   "metadata": {},
   "outputs": [
    {
     "name": "stdout",
     "output_type": "stream",
     "text": [
      "Reporte de mision marte\n",
      "----------------------------------------\n",
      "Los datos son:\n",
      "Hora de prelanzamiento: 10\n",
      "Tiempo de vuelo:10\n",
      "----------------------------------------\n",
      "Combustible externo: 0\n",
      "Combustible interno: 0\n",
      "\n",
      "\n",
      "Mision a Moon\n",
      "Tiempo total de viaje: 76 minutos\n",
      "Combustible total restante:500000\n",
      "\n",
      "\n",
      "Mision a marte\n",
      "Tiempo total de viaje: 74 minutos\n",
      "Combustible total restante: 500000\n",
      "main tank --> 300000 gallons left\n",
      "external tank --> 200000 gallons left\n",
      "\n"
     ]
    }
   ],
   "source": [
    "def reporte_mision(pre_lanzamiento,tiempo_vuelo,destino,tanque_externo,tanque_interno):\n",
    "    return f\"\"\"Reporte de mision {destino}\n",
    "{'-'*40}\n",
    "Los datos son:\n",
    "Hora de prelanzamiento: {pre_lanzamiento}\n",
    "Tiempo de vuelo:{tiempo_vuelo}\n",
    "{'-'*40}\n",
    "Combustible externo: {tanque_externo}\n",
    "Combustible interno: {tanque_interno}\n",
    "\"\"\"\n",
    "print(reporte_mision(10,10,\"marte\",0,0))\n",
    "\n",
    "# Escribe tu nueva función de reporte considerando lo anterior\n",
    "\n",
    "def mission_report(destino, *minutes, **fuel_reservoirs):\n",
    "    return f\"\"\"\n",
    "Mision a {destino}\n",
    "Tiempo total de viaje: {sum(minutes)} minutos\n",
    "Combustible total restante:{sum(fuel_reservoirs.values())}\n",
    "\"\"\"\n",
    "\n",
    "print(mission_report(\"Moon\", 10, 15, 51, main=300000, external=200000))\n",
    "\n",
    "def mission_report(destino, *minutes, **fuel_reservoirs):\n",
    "    reporte = f\"\"\"\n",
    "Mision a {destino}\n",
    "Tiempo total de viaje: {sum(minutes)} minutos\n",
    "Combustible total restante: {sum(fuel_reservoirs.values())}\n",
    "\"\"\"\n",
    "    for tanque, galones in fuel_reservoirs.items():\n",
    "        reporte += f\"{tanque} tank --> {galones} gallons left\\n\"\n",
    "    return reporte\n",
    "\n",
    "print(mission_report(\"marte\", 8, 11, 55, main=300000, external=200000))\n"
   ]
  }
 ],
 "metadata": {
  "interpreter": {
   "hash": "9bf2ca0f4a7adc3ce2f237ca763c1538d3ef289a4e7face3612a01cdae9f6807"
  },
  "kernelspec": {
   "display_name": "Python 3.10.2 64-bit",
   "language": "python",
   "name": "python3"
  },
  "language_info": {
   "codemirror_mode": {
    "name": "ipython",
    "version": 3
   },
   "file_extension": ".py",
   "mimetype": "text/x-python",
   "name": "python",
   "nbconvert_exporter": "python",
   "pygments_lexer": "ipython3",
   "version": "3.10.2"
  },
  "orig_nbformat": 4
 },
 "nbformat": 4,
 "nbformat_minor": 2
}
