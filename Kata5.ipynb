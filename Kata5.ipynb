{
 "cells": [
  {
   "cell_type": "markdown",
   "metadata": {},
   "source": [
    "## Ejercicio1 - Utilizar operadores aritméticos"
   ]
  },
  {
   "cell_type": "code",
   "execution_count": 16,
   "metadata": {},
   "outputs": [
    {
     "name": "stdout",
     "output_type": "stream",
     "text": [
      "-390577533.93\n"
     ]
    }
   ],
   "source": [
    "# Crear variables para almacenar las dos distancias\n",
    "distancia_tierra = 149597870 \n",
    "distancia_jupyter = 778547200\n",
    "# Calcular la distancia entre planetas y convertir la distancia del kilómetro en millas\n",
    "distancia_millas =   (distancia_tierra - distancia_jupyter) * 0.621 \n",
    "\n",
    "print(distancia_millas)\n",
    "\n"
   ]
  },
  {
   "cell_type": "markdown",
   "metadata": {},
   "source": [
    "## Ejercicio 2"
   ]
  },
  {
   "cell_type": "code",
   "execution_count": 18,
   "metadata": {},
   "outputs": [
    {
     "name": "stdout",
     "output_type": "stream",
     "text": [
      "-628949330\n",
      "390577533.93\n"
     ]
    }
   ],
   "source": [
    "# Almacenar las entradas del usuario y convetirlos en entero\n",
    "primer_planeta= int(input(\"ingrese la distancia del sol para el primer planeta en KM\"))\n",
    "Segundo_planeta=int(input(\"ingrese la distancia del sol para el segundo planeta en KM\"))\n",
    "\n",
    "##Realizar el cálculo en KM\n",
    "distancia_km =   primer_planeta - Segundo_planeta\n",
    "print(distancia_km)\n",
    "# Realizar el cálculo y determinar el valor absoluto \n",
    "distancia_millas =   (primer_planeta - Segundo_planeta) * 0.621 \n",
    "print(abs(distancia_millas))"
   ]
  }
 ],
 "metadata": {
  "interpreter": {
   "hash": "08b9c4df658e90dfe1a2c6c1a82b054506932f6149ccb05314ce1048f4b162ba"
  },
  "kernelspec": {
   "display_name": "Python 3.10.2 ('env': venv)",
   "language": "python",
   "name": "python3"
  },
  "language_info": {
   "codemirror_mode": {
    "name": "ipython",
    "version": 3
   },
   "file_extension": ".py",
   "mimetype": "text/x-python",
   "name": "python",
   "nbconvert_exporter": "python",
   "pygments_lexer": "ipython3",
   "version": "3.10.2"
  },
  "orig_nbformat": 4
 },
 "nbformat": 4,
 "nbformat_minor": 2
}
