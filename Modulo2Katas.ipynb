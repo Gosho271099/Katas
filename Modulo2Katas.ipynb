{
 "cells": [
  {
   "cell_type": "markdown",
   "metadata": {},
   "source": [
    "## Ejercicio - Crear un paquete\n",
    "\n",
    "En este ejercicio, aprenderás a utilizar entornos virtuales como una forma para no afectar a los paquetes instalados globalmente u otros programas que se ejecutan en tu máquina.\n",
    "\n",
    "\n",
    "Para este ejercicio es necesario que lo ejecutes desde la terminal, línea de comandos, cmd, consola, cli, etc. de tu computadora, sé que es desafíante, pero no te preocupes ¡¡Sé que puedes lograrlo!!\n",
    "\n",
    "### Crear un entorno virtual\n",
    "\n",
    "Crea un entorno virtual mediante venv\n",
    "\n",
    "Ejecutar en su terminal: python3 -m venv env o bien python -m venv env"
   ]
  },
  {
   "cell_type": "markdown",
   "metadata": {},
   "source": [
    "C:\\Users\\HP\\Documents\\Onboarding>python -m venv env"
   ]
  },
  {
   "cell_type": "markdown",
   "metadata": {},
   "source": [
    "Ejecuta el comando para activar el entorno virtual: source env/bin/activate"
   ]
  },
  {
   "cell_type": "markdown",
   "metadata": {},
   "source": [
    "C:\\Users\\HP\\Documents\\Onboarding>env\\Scripts\\activate"
   ]
  },
  {
   "cell_type": "markdown",
   "metadata": {},
   "source": [
    "Ahora ves en tu terminal (env). Eso significa que has activado tu entorno virtual y se ha aislado del resto de tu máquina."
   ]
  },
  {
   "cell_type": "markdown",
   "metadata": {},
   "source": [
    "(env) C:\\Users\\HP\\Documents\\Onboarding>"
   ]
  },
  {
   "cell_type": "markdown",
   "metadata": {},
   "source": [
    "## Instalar una biblioteca"
   ]
  },
  {
   "cell_type": "markdown",
   "metadata": {},
   "source": [
    "(env) C:\\Users\\HP\\Documents\\Onboarding>pip freeze\n",
    "\n",
    "(env) C:\\Users\\HP\\Documents\\Onboarding>"
   ]
  },
  {
   "cell_type": "markdown",
   "metadata": {},
   "source": [
    "(env) C:\\Users\\HP\\Documents\\Onboarding>pip install python-dateutil\n",
    "\n",
    "Collecting python-dateutil\n",
    "  Using cached python_dateutil-2.8.2-py2.py3-none-any.whl (247 kB)\n",
    "Collecting six>=1.5\n",
    "  Using cached six-1.16.0-py2.py3-none-any.whl (11 kB)\n",
    "Installing collected packages: six, python-dateutil\n",
    "Successfully installed python-dateutil-2.8.2 six-1.16.0\n",
    "WARNING: You are using pip version 21.2.4; however, version 22.0.3 is available.\n",
    "You should consider upgrading via the 'C:\\Users\\HP\\Documents\\Onboarding\\env\\Scripts\\python.exe -m pip install --upgrade pip' command."
   ]
  },
  {
   "cell_type": "markdown",
   "metadata": {},
   "source": [
    "(env) C:\\Users\\HP\\Documents\\Onboarding>pip freeze\n",
    "python-dateutil==2.8.2\n",
    "six==1.16.0"
   ]
  },
  {
   "cell_type": "markdown",
   "metadata": {},
   "source": [
    "## Desactivar un entorno virtual"
   ]
  },
  {
   "cell_type": "markdown",
   "metadata": {},
   "source": [
    "(env) C:\\Users\\HP\\Documents\\Onboarding>deactivate\n",
    "\n",
    "C:\\Users\\HP\\Documents\\Onboarding>"
   ]
  }
 ],
 "metadata": {
  "interpreter": {
   "hash": "08b9c4df658e90dfe1a2c6c1a82b054506932f6149ccb05314ce1048f4b162ba"
  },
  "kernelspec": {
   "display_name": "Python 3.10.2 ('env': venv)",
   "language": "python",
   "name": "python3"
  },
  "language_info": {
   "codemirror_mode": {
    "name": "ipython",
    "version": 3
   },
   "file_extension": ".py",
   "mimetype": "text/x-python",
   "name": "python",
   "nbconvert_exporter": "python",
   "pygments_lexer": "ipython3",
   "version": "3.10.2"
  },
  "orig_nbformat": 4
 },
 "nbformat": 4,
 "nbformat_minor": 2
}
