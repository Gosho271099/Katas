{
 "cells": [
  {
   "cell_type": "markdown",
   "metadata": {},
   "source": [
    "## Ejercicio 1"
   ]
  },
  {
   "cell_type": "code",
   "execution_count": 4,
   "metadata": {},
   "outputs": [
    {
     "name": "stdout",
     "output_type": "stream",
     "text": [
      "¡Cuidado! un asteroide se acerca a la Tierra demasiado rápido \n"
     ]
    }
   ],
   "source": [
    "velocidad_asteroide =  49 \n",
    "if velocidad_asteroide > 25:\n",
    "    print(\"¡Cuidado! un asteroide se acerca a la Tierra demasiado rápido \")\n",
    "else:\n",
    "    print(\"Sin ninguna novedad\")"
   ]
  },
  {
   "cell_type": "markdown",
   "metadata": {},
   "source": [
    "## Ejercicio 2"
   ]
  },
  {
   "cell_type": "code",
   "execution_count": 5,
   "metadata": {},
   "outputs": [
    {
     "name": "stdout",
     "output_type": "stream",
     "text": [
      "Sin ninguna novedad\n"
     ]
    }
   ],
   "source": [
    "asteroide = 19 \n",
    "if asteroide > 20:\n",
    "    print('Busca un rayo de luz en el cielo')\n",
    "elif asteroide == 20:\n",
    "    print('Busca un rayo de luz en el cielo')\n",
    "else:\n",
    "    print('Sin ninguna novedad')"
   ]
  },
  {
   "cell_type": "markdown",
   "metadata": {},
   "source": [
    "## Ejercicio 3"
   ]
  },
  {
   "cell_type": "code",
   "execution_count": 7,
   "metadata": {},
   "outputs": [
    {
     "name": "stdout",
     "output_type": "stream",
     "text": [
      "Busca un rayo de luz en el cielo\n"
     ]
    }
   ],
   "source": [
    "velocidad_asteroide = 25\n",
    "tamaño_asteroide = 40\n",
    "if velocidad_asteroide > 25 and tamaño_asteroide > 25:\n",
    "    print('¡Cuidado! un asteroide se acerca a la Tierra!')\n",
    "elif velocidad_asteroide >= 20:\n",
    "    print('Busca un rayo de luz en el cielo')\n",
    "elif tamaño_asteroide < 25:\n",
    "    print('Sin ninguna novedad')\n",
    "else:\n",
    "    print('Sin ninguna novedad')"
   ]
  }
 ],
 "metadata": {
  "interpreter": {
   "hash": "08b9c4df658e90dfe1a2c6c1a82b054506932f6149ccb05314ce1048f4b162ba"
  },
  "kernelspec": {
   "display_name": "Python 3.10.2 ('env': venv)",
   "language": "python",
   "name": "python3"
  },
  "language_info": {
   "codemirror_mode": {
    "name": "ipython",
    "version": 3
   },
   "file_extension": ".py",
   "mimetype": "text/x-python",
   "name": "python",
   "nbconvert_exporter": "python",
   "pygments_lexer": "ipython3",
   "version": "3.10.2"
  },
  "orig_nbformat": 4
 },
 "nbformat": 4,
 "nbformat_minor": 2
}
